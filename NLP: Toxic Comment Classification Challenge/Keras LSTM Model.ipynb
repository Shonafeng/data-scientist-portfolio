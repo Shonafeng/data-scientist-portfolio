{
 "cells": [
  {
   "cell_type": "markdown",
   "metadata": {},
   "source": [
    "### import Keras Libraries"
   ]
  },
  {
   "cell_type": "code",
   "execution_count": 52,
   "metadata": {},
   "outputs": [],
   "source": [
    "import numpy as np\n",
    "import pandas as pd\n",
    "import matplotlib.pyplot as plt\n",
    "%matplotlib inline\n",
    "\n",
    "from keras.models import Model\n",
    "from keras.layers import Dense, Embedding, Input, LSTM, Bidirectional, GlobalMaxPool1D, Dropout\n",
    "from keras.preprocessing import text, sequence\n",
    "from keras.callbacks import EarlyStopping, ModelCheckpoint\n",
    "\n"
   ]
  },
  {
   "cell_type": "code",
   "execution_count": 63,
   "metadata": {},
   "outputs": [],
   "source": [
    "# load data\n",
    "path='/Users/fengxiao/Documents/Johns Hopkins MS Data Science/2018 Spring/ML projects/Toxic Comment Classification Challenge/'\n",
    "train=pd.read_csv(path+'train 2.csv')\n",
    "test = pd.read_csv(path + 'test 2.csv')"
   ]
  },
  {
   "cell_type": "code",
   "execution_count": 74,
   "metadata": {},
   "outputs": [],
   "source": [
    "#assign none toxic tag\n",
    "#train['clean']=1-train.iloc[:,2:].max(1)\n",
    "\n",
    "\n",
    "# X and y\n",
    "y= train.iloc[:,2:].values\n",
    "X= train['comment_text']\n",
    "X_t = test['comment_text']"
   ]
  },
  {
   "cell_type": "markdown",
   "metadata": {},
   "source": [
    "## Text tokenize - prepare for LSTM"
   ]
  },
  {
   "cell_type": "code",
   "execution_count": null,
   "metadata": {},
   "outputs": [],
   "source": [
    "maxlen=200"
   ]
  },
  {
   "cell_type": "code",
   "execution_count": 75,
   "metadata": {},
   "outputs": [],
   "source": [
    "# Tokenize comment text use Keras text preprocessing\n",
    "tokenizer= text.Tokenizer(num_words=maxlen)\n",
    "tokenizer.fit_on_texts(list(X))\n",
    "list_tokenized_train = tokenizer.texts_to_sequences(X)\n",
    "list_tokenized_test = tokenizer.texts_to_sequences(X_t)\n"
   ]
  },
  {
   "cell_type": "code",
   "execution_count": 59,
   "metadata": {},
   "outputs": [
    {
     "data": {
      "image/png": "[encoded data removed]",
      "text/plain": [
       "<matplotlib.figure.Figure at 0x12b0fe860>"
      ]
     },
     "metadata": {},
     "output_type": "display_data"
    }
   ],
   "source": [
    "# distribution of number of words in sentences to determin length range\n",
    "#numberOfWords = [len(sentence) for sentence in list_tokenized_train]\n",
    "plt.hist(numberOfWords,bins=np.arange(0,410,10))\n",
    "plt.show()"
   ]
  },
  {
   "cell_type": "code",
   "execution_count": 76,
   "metadata": {},
   "outputs": [],
   "source": [
    "# 200 is a resonable number to be the maxlen\n",
    "\n",
    "X_train= sequence.pad_sequences(list_tokenized_train, maxlen=maxlen )\n",
    "X_test=sequence.pad_sequences(list_tokenized_test , maxlen=maxlen)"
   ]
  },
  {
   "cell_type": "code",
   "execution_count": 46,
   "metadata": {},
   "outputs": [],
   "source": [
    "#tfidf tokenized\n",
    "#X_train1= tokenizer.texts_to_matrix(list(X),mode='tfidf')\n",
    "#X_test1 = tokenizer.texts_to_matrix(list(X_test), mode='tfidf')"
   ]
  },
  {
   "cell_type": "markdown",
   "metadata": {},
   "source": [
    "## Built the Model"
   ]
  },
  {
   "cell_type": "code",
   "execution_count": 77,
   "metadata": {},
   "outputs": [],
   "source": [
    "# model construct\n",
    "def get_model():\n",
    "    embed_size = 128\n",
    "    inp = Input(shape=(maxlen,))\n",
    "    #embedding - to project the words to a defined vector space depending on the distance of the surrounding words in a sentence\n",
    "    x=Embedding(maxlen,embed_size)(inp)\n",
    "    x=LSTM(60,return_sequences=True)(x)\n",
    "    x=GlobalMaxPool1D()(x)\n",
    "    x=Dropout(0.1)(x)\n",
    "    x=Dense(50,activation='relu')(x)\n",
    "    x=Dropout(0.1)(x)\n",
    "    x=Dense(6, activation='sigmoid')(x)\n",
    "    model= Model(inputs=inp, outputs=x)\n",
    "    model.compile(loss ='binary_crossentropy', optimizer='adam', metrics=['accuracy'])\n",
    "    \n",
    "    return model\n",
    "    "
   ]
  },
  {
   "cell_type": "code",
   "execution_count": 80,
   "metadata": {},
   "outputs": [
    {
     "name": "stdout",
     "output_type": "stream",
     "text": [
      "Train on 143613 samples, validate on 15958 samples\n",
      "Epoch 1/2\n",
      "143613/143613 [==============================] - 2492s 17ms/step - loss: 0.1046 - acc: 0.9685 - val_loss: 0.0907 - val_acc: 0.9702\n",
      "Epoch 2/2\n",
      "143613/143613 [==============================] - 2687s 19ms/step - loss: 0.0907 - acc: 0.9712 - val_loss: 0.0899 - val_acc: 0.9706\n"
     ]
    },
    {
     "data": {
      "text/plain": [
       "<keras.callbacks.History at 0x17aac2cc0>"
      ]
     },
     "execution_count": 80,
     "metadata": {},
     "output_type": "execute_result"
    }
   ],
   "source": [
    "model=get_model()\n",
    "batch_size =32\n",
    "epochs = 2\n",
    "early = EarlyStopping(monitor='val_loss',mode='min')\n",
    "model.fit(X_train, y, batch_size=batch_size, epochs= epochs, validation_split=0.1,callbacks=[early])"
   ]
  },
  {
   "cell_type": "code",
   "execution_count": 81,
   "metadata": {},
   "outputs": [],
   "source": [
    "y_test=model.predict(X_test)"
   ]
  },
  {
   "cell_type": "code",
   "execution_count": 91,
   "metadata": {},
   "outputs": [],
   "source": [
    "labels=['toxic', 'severe_toxic', 'obscene', 'threat', 'insult', 'identity_hate']\n",
    "y_te=pd.DataFrame(y_test,columns=labels)"
   ]
  },
  {
   "cell_type": "code",
   "execution_count": 100,
   "metadata": {},
   "outputs": [],
   "source": [
    "submission = pd.concat([test,y_te], axis=1).drop('comment_text',1)"
   ]
  },
  {
   "cell_type": "code",
   "execution_count": 102,
   "metadata": {},
   "outputs": [],
   "source": [
    "submission.to_csv(path+'submission.csv',index=False)"
   ]
  },
  {
   "cell_type": "code",
   "execution_count": null,
   "metadata": {},
   "outputs": [],
   "source": []
  }
 ],
 "metadata": {
  "kernelspec": {
   "display_name": "Python 3",
   "language": "python",
   "name": "python3"
  },
  "language_info": {
   "codemirror_mode": {
    "name": "ipython",
    "version": 3
   },
   "file_extension": ".py",
   "mimetype": "text/x-python",
   "name": "python",
   "nbconvert_exporter": "python",
   "pygments_lexer": "ipython3",
   "version": "3.6.3"
  }
 },
 "nbformat": 4,
 "nbformat_minor": 2
}
