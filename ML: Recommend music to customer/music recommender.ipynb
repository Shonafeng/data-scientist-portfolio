{
 "cells": [
  {
   "cell_type": "code",
   "execution_count": 1,
   "metadata": {},
   "outputs": [],
   "source": [
    "import numpy as np\n",
    "import pandas as pd\n",
    "#import lightgbm as lgb\n",
    "import matplotlib.pyplot as plt\n",
    "%matplotlib inline\n",
    "import seaborn as sns\n",
    "\n",
    "from datetime import date\n",
    "\n",
    "\n",
    "# sklearn tools from model training and assesment\n",
    "from sklearn.model_selection import train_test_split\n",
    "from sklearn.metrics import (roc_curve, auc, accuracy_score)\n",
    "from sklearn.model_selection import GridSearchCV"
   ]
  },
  {
   "cell_type": "code",
   "execution_count": 2,
   "metadata": {},
   "outputs": [],
   "source": [
    "import lightgbm as lgb\n",
    "from collections import Counter"
   ]
  },
  {
   "cell_type": "code",
   "execution_count": 3,
   "metadata": {},
   "outputs": [],
   "source": [
    "#load all datasets\n",
    "data_path='/Users/fengxiao/Documents/Johns Hopkins MS Data Science/2017 Fall/Udacity Machine learning/machine-learning/Machine-Learning-projects/music recommendation/data/'\n",
    "\n",
    "\n",
    "\n",
    "\n",
    "train = pd.read_csv(data_path+'train.csv',dtype={'msno': 'category',\n",
    "                                                 'song_id': 'category',\n",
    "                                                'source_system_tab': 'category',\n",
    "                                                'source_screen_name': 'category',\n",
    "                                                'source_type': 'category',\n",
    "                                                 'target':np.uint8\n",
    "                                                })\n",
    "test = pd.read_csv(data_path + 'test.csv', dtype={'msno': 'category',\n",
    "                                                 'song_id': 'category',\n",
    "                                                'source_system_tab': 'category',\n",
    "                                                'source_screen_name': 'category',\n",
    "                                                'source_type': 'category'})\n",
    "songs = pd.read_csv(data_path + 'songs.csv', dtype={'song_id': 'category',\n",
    "                                                   'genre_ids': 'category',\n",
    "                                                    'language': 'category',\n",
    "                                                    'composer': 'category',\n",
    "                                                    'lyricist': 'category',\n",
    "                                                    'artist_name': 'category',\n",
    "                                                    'song_length':np.int32\n",
    "                                                   })\n",
    "songE = pd.read_csv(data_path + 'song_extra_info.csv')\n",
    "members = pd.read_csv(data_path + 'members.csv',dtype={'city':'category',\n",
    "                                                      'bd':np.uint8,\n",
    "                                                      'gender': 'category',\n",
    "                                                      'registered_via': 'category'},parse_dates=['registration_init_time','expiration_date'])\n",
    "recommend_artist = pd.read_csv(data_path+'recommend_artists.csv', dtype={'recom_artist1':'category',\n",
    "                                                                        'recom_artist2':'category',\n",
    "                                                                        'recom_artist3':'category'})\n"
   ]
  },
  {
   "cell_type": "code",
   "execution_count": 46,
   "metadata": {},
   "outputs": [
    {
     "data": {
      "text/html": [
       "<div>\n",
       "<style>\n",
       "    .dataframe thead tr:only-child th {\n",
       "        text-align: right;\n",
       "    }\n",
       "\n",
       "    .dataframe thead th {\n",
       "        text-align: left;\n",
       "    }\n",
       "\n",
       "    .dataframe tbody tr th {\n",
       "        vertical-align: top;\n",
       "    }\n",
       "</style>\n",
       "<table border=\"1\" class=\"dataframe\">\n",
       "  <thead>\n",
       "    <tr style=\"text-align: right;\">\n",
       "      <th></th>\n",
       "      <th>id</th>\n",
       "      <th>msno</th>\n",
       "      <th>song_id</th>\n",
       "      <th>source_system_tab</th>\n",
       "      <th>source_screen_name</th>\n",
       "      <th>source_type</th>\n",
       "    </tr>\n",
       "  </thead>\n",
       "  <tbody>\n",
       "    <tr>\n",
       "      <th>0</th>\n",
       "      <td>0</td>\n",
       "      <td>V8ruy7SGk7tDm3zA51DPpn6qutt+vmKMBKa21dp54uM=</td>\n",
       "      <td>WmHKgKMlp1lQMecNdNvDMkvIycZYHnFwDT72I5sIssc=</td>\n",
       "      <td>my library</td>\n",
       "      <td>Local playlist more</td>\n",
       "      <td>local-library</td>\n",
       "    </tr>\n",
       "    <tr>\n",
       "      <th>1</th>\n",
       "      <td>1</td>\n",
       "      <td>V8ruy7SGk7tDm3zA51DPpn6qutt+vmKMBKa21dp54uM=</td>\n",
       "      <td>y/rsZ9DC7FwK5F2PK2D5mj+aOBUJAjuu3dZ14NgE0vM=</td>\n",
       "      <td>my library</td>\n",
       "      <td>Local playlist more</td>\n",
       "      <td>local-library</td>\n",
       "    </tr>\n",
       "    <tr>\n",
       "      <th>2</th>\n",
       "      <td>2</td>\n",
       "      <td>/uQAlrAkaczV+nWCd2sPF2ekvXPRipV7q0l+gbLuxjw=</td>\n",
       "      <td>8eZLFOdGVdXBSqoAv5nsLigeH2BvKXzTQYtUM53I0k4=</td>\n",
       "      <td>discover</td>\n",
       "      <td>NaN</td>\n",
       "      <td>song-based-playlist</td>\n",
       "    </tr>\n",
       "    <tr>\n",
       "      <th>3</th>\n",
       "      <td>3</td>\n",
       "      <td>1a6oo/iXKatxQx4eS9zTVD+KlSVaAFbTIqVvwLC1Y0k=</td>\n",
       "      <td>ztCf8thYsS4YN3GcIL/bvoxLm/T5mYBVKOO4C9NiVfQ=</td>\n",
       "      <td>radio</td>\n",
       "      <td>Radio</td>\n",
       "      <td>radio</td>\n",
       "    </tr>\n",
       "    <tr>\n",
       "      <th>4</th>\n",
       "      <td>4</td>\n",
       "      <td>1a6oo/iXKatxQx4eS9zTVD+KlSVaAFbTIqVvwLC1Y0k=</td>\n",
       "      <td>MKVMpslKcQhMaFEgcEQhEfi5+RZhMYlU3eRDpySrH8Y=</td>\n",
       "      <td>radio</td>\n",
       "      <td>Radio</td>\n",
       "      <td>radio</td>\n",
       "    </tr>\n",
       "  </tbody>\n",
       "</table>\n",
       "</div>"
      ],
      "text/plain": [
       "   id                                          msno  \\\n",
       "0   0  V8ruy7SGk7tDm3zA51DPpn6qutt+vmKMBKa21dp54uM=   \n",
       "1   1  V8ruy7SGk7tDm3zA51DPpn6qutt+vmKMBKa21dp54uM=   \n",
       "2   2  /uQAlrAkaczV+nWCd2sPF2ekvXPRipV7q0l+gbLuxjw=   \n",
       "3   3  1a6oo/iXKatxQx4eS9zTVD+KlSVaAFbTIqVvwLC1Y0k=   \n",
       "4   4  1a6oo/iXKatxQx4eS9zTVD+KlSVaAFbTIqVvwLC1Y0k=   \n",
       "\n",
       "                                        song_id source_system_tab  \\\n",
       "0  WmHKgKMlp1lQMecNdNvDMkvIycZYHnFwDT72I5sIssc=        my library   \n",
       "1  y/rsZ9DC7FwK5F2PK2D5mj+aOBUJAjuu3dZ14NgE0vM=        my library   \n",
       "2  8eZLFOdGVdXBSqoAv5nsLigeH2BvKXzTQYtUM53I0k4=          discover   \n",
       "3  ztCf8thYsS4YN3GcIL/bvoxLm/T5mYBVKOO4C9NiVfQ=             radio   \n",
       "4  MKVMpslKcQhMaFEgcEQhEfi5+RZhMYlU3eRDpySrH8Y=             radio   \n",
       "\n",
       "    source_screen_name          source_type  \n",
       "0  Local playlist more        local-library  \n",
       "1  Local playlist more        local-library  \n",
       "2                  NaN  song-based-playlist  \n",
       "3                Radio                radio  \n",
       "4                Radio                radio  "
      ]
     },
     "execution_count": 46,
     "metadata": {},
     "output_type": "execute_result"
    }
   ],
   "source": [
    "test.head()"
   ]
  },
  {
   "cell_type": "markdown",
   "metadata": {},
   "source": [
    "## songs extra info"
   ]
  },
  {
   "cell_type": "code",
   "execution_count": 4,
   "metadata": {},
   "outputs": [],
   "source": [
    "#extract year information of song from isrc use https://www.kaggle.com/kamilkk/i-have-to-say-this\n",
    "\n",
    "def isrc_to_year(isrc):\n",
    "    if type(isrc) == str:\n",
    "        \n",
    "        if int(isrc[5:7]) > 17:\n",
    "            return str(1900 + int(isrc[5:7]))\n",
    "        else:\n",
    "            return str(2000 + int(isrc[5:7]))\n",
    "    else:\n",
    "        return np.nan\n",
    "    \n",
    "songE['song_year'] = songE['isrc'].apply(isrc_to_year).astype('category')\n",
    "   \n",
    "    "
   ]
  },
  {
   "cell_type": "code",
   "execution_count": 5,
   "metadata": {},
   "outputs": [],
   "source": [
    "songE.drop(['isrc','name'], axis = 1, inplace = True)"
   ]
  },
  {
   "cell_type": "code",
   "execution_count": 6,
   "metadata": {},
   "outputs": [],
   "source": [
    "# join song_year info to train and test\n",
    "train = train.merge(songE, on='song_id', how='left')\n",
    "test = test.merge(songE, on = 'song_id', how='left')"
   ]
  },
  {
   "cell_type": "markdown",
   "metadata": {},
   "source": [
    "## train and test data is chronologically ordered\n",
    "https://www.kaggle.com/kamilkk/i-have-to-say-this "
   ]
  },
  {
   "cell_type": "code",
   "execution_count": 126,
   "metadata": {},
   "outputs": [
    {
     "data": {
      "text/plain": [
       "category"
      ]
     },
     "execution_count": 126,
     "metadata": {},
     "output_type": "execute_result"
    }
   ],
   "source": [
    "train.song_year.dtype"
   ]
  },
  {
   "cell_type": "code",
   "execution_count": 129,
   "metadata": {
    "collapsed": true
   },
   "outputs": [],
   "source": [
    "## count the fraction of songs was released in 2017\n",
    "train['2017_songs_frac']=(train['song_year']=='2017').rolling(window=50000, center=True).mean()\n",
    "test['2017_songs_frac']=(test['song_year']=='2017').rolling(window=5000,center=True).mean()"
   ]
  },
  {
   "cell_type": "code",
   "execution_count": 130,
   "metadata": {},
   "outputs": [
    {
     "data": {
      "text/plain": [
       "[<matplotlib.lines.Line2D at 0x13cfa0208>,\n",
       " <matplotlib.lines.Line2D at 0x1387bab70>]"
      ]
     },
     "execution_count": 130,
     "metadata": {},
     "output_type": "execute_result"
    },
    {
     "data": {
      "image/png": "[encoded data removed]",
      "text/plain": [
       "<matplotlib.figure.Figure at 0x1287a19e8>"
      ]
     },
     "metadata": {},
     "output_type": "display_data"
    }
   ],
   "source": [
    "plt.figure()\n",
    "plt.plot(train.index.values, train['2017_songs_frac'],'-', train.shape[0]+test.index.values, test['2017_songs_frac'],'-')"
   ]
  },
  {
   "cell_type": "markdown",
   "metadata": {},
   "source": [
    "### conclusion: train and test data sets are in chronologically ordered\n",
    "train data validation use last 2.5 milion records"
   ]
  },
  {
   "cell_type": "markdown",
   "metadata": {},
   "source": [
    "## members"
   ]
  },
  {
   "cell_type": "code",
   "execution_count": 7,
   "metadata": {},
   "outputs": [],
   "source": [
    "members['membership_duration'] = members['expiration_date'].subtract(members['registration_init_time']).dt.days.astype(int)\n",
    "\n",
    "\n",
    "members['regis_year'] = members['registration_init_time'].dt.year\n",
    "members['regis_month'] = members['registration_init_time'].dt.month\n",
    "members['regis_day'] = members['registration_init_time'].dt.day\n",
    "\n",
    "members['expir_year'] = members['expiration_date'].dt.year\n",
    "members['expir_month'] = members['expiration_date'].dt.month\n",
    "members['expir_day'] = members['expiration_date'].dt.day"
   ]
  },
  {
   "cell_type": "code",
   "execution_count": 8,
   "metadata": {},
   "outputs": [],
   "source": [
    "members.drop(['registration_init_time','expiration_date'],axis=1, inplace =True)"
   ]
  },
  {
   "cell_type": "code",
   "execution_count": 9,
   "metadata": {},
   "outputs": [],
   "source": [
    "train=train.merge(members, on='msno',how='left')\n",
    "test = test.merge(members, on='msno', how='left')"
   ]
  },
  {
   "cell_type": "markdown",
   "metadata": {},
   "source": [
    "## Songs"
   ]
  },
  {
   "cell_type": "code",
   "execution_count": 10,
   "metadata": {},
   "outputs": [],
   "source": [
    "def multi_count(x):\n",
    "    if x is None:\n",
    "        return 0\n",
    "    else:\n",
    "        return sum(map(x.count,['|','/','\\\\',';','and','feat','&',',','、'])) + 1"
   ]
  },
  {
   "cell_type": "code",
   "execution_count": 11,
   "metadata": {},
   "outputs": [],
   "source": [
    "songs['genre_ids_count'] = songs['genre_ids'].apply(multi_count).astype(np.int32)\n",
    "songs['artist_name_count'] = songs['artist_name'].apply(multi_count).astype(np.int32)\n",
    "songs['composer_count'] = songs['composer'].apply(multi_count).astype(np.int32)\n",
    "songs['lyricist_count'] = songs['lyricist'].apply(multi_count).astype(np.int32)"
   ]
  },
  {
   "cell_type": "code",
   "execution_count": 12,
   "metadata": {},
   "outputs": [],
   "source": [
    "songs['artist_composer'] = (songs['artist_name'].astype('object')==songs['composer'].astype('object')).astype('category')\n",
    "songs['artist_lyricist'] = (songs['artist_name'].astype('object')==songs['lyricist'].astype('object')).astype('category')\n",
    "songs['artist_composer_lyricist'] = ((songs['artist_name'].astype('object')==songs['composer'].astype('object'))\n",
    "                                     &(songs['artist_name'].astype('object')==songs['lyricist'].astype('object'))\n",
    "                                    &(songs['lyricist'].astype('object')==songs['composer'].astype('object'))).astype('category')"
   ]
  },
  {
   "cell_type": "code",
   "execution_count": 13,
   "metadata": {},
   "outputs": [],
   "source": [
    "# merge with train/test\n",
    "train = train.merge(songs, on ='song_id', how='left')\n",
    "test = test.merge(songs, on='song_id', how = 'left')"
   ]
  },
  {
   "cell_type": "markdown",
   "metadata": {},
   "source": [
    "## recommend_artist"
   ]
  },
  {
   "cell_type": "code",
   "execution_count": 14,
   "metadata": {},
   "outputs": [
    {
     "data": {
      "text/html": [
       "<div>\n",
       "<style scoped>\n",
       "    .dataframe tbody tr th:only-of-type {\n",
       "        vertical-align: middle;\n",
       "    }\n",
       "\n",
       "    .dataframe tbody tr th {\n",
       "        vertical-align: top;\n",
       "    }\n",
       "\n",
       "    .dataframe thead th {\n",
       "        text-align: right;\n",
       "    }\n",
       "</style>\n",
       "<table border=\"1\" class=\"dataframe\">\n",
       "  <thead>\n",
       "    <tr style=\"text-align: right;\">\n",
       "      <th></th>\n",
       "      <th>Unnamed: 0</th>\n",
       "      <th>msno</th>\n",
       "      <th>recom_artist1</th>\n",
       "      <th>recom_artist2</th>\n",
       "      <th>recom_artist3</th>\n",
       "    </tr>\n",
       "  </thead>\n",
       "  <tbody>\n",
       "    <tr>\n",
       "      <th>0</th>\n",
       "      <td>0</td>\n",
       "      <td>++5wYjoMgQHoRuD3GbbvmphZbBBwymzv5Q4l8sywtuU=</td>\n",
       "      <td>韋禮安 (William Wei)</td>\n",
       "      <td>李榮浩</td>\n",
       "      <td>楊丞琳 (Rainie Yang)</td>\n",
       "    </tr>\n",
       "    <tr>\n",
       "      <th>1</th>\n",
       "      <td>1</td>\n",
       "      <td>++AH7m/EQ4iKe6wSlfO/xXAJx50p+fCeTyF90GoE9Pg=</td>\n",
       "      <td>兄弟本色G.U.T.S. (姚中仁、張震嶽、頑童MJ116)</td>\n",
       "      <td>A-Lin</td>\n",
       "      <td>謝和弦 (R-chord)</td>\n",
       "    </tr>\n",
       "    <tr>\n",
       "      <th>2</th>\n",
       "      <td>2</td>\n",
       "      <td>++e+jsxuQ8UEnmW40od9Rq3rW7+wAum4wooXyZTKJpk=</td>\n",
       "      <td>韋禮安 (William Wei)</td>\n",
       "      <td>A-Lin</td>\n",
       "      <td>李榮浩</td>\n",
       "    </tr>\n",
       "    <tr>\n",
       "      <th>3</th>\n",
       "      <td>3</td>\n",
       "      <td>++xWL5Pbi2CpG4uUugigQahauM0J/sBIRloTNPBybIU=</td>\n",
       "      <td>丁噹 (Della)</td>\n",
       "      <td>aMEI (張惠妹)</td>\n",
       "      <td>郭靜 (Claire Kuo)</td>\n",
       "    </tr>\n",
       "    <tr>\n",
       "      <th>4</th>\n",
       "      <td>4</td>\n",
       "      <td>+/SKX44s4ryWQzYzuV7ZKMXqIKQMN1cPz3M8CJ8CFKU=</td>\n",
       "      <td>李榮浩</td>\n",
       "      <td>aMEI (張惠妹)</td>\n",
       "      <td>林宥嘉 (Yoga Lin)</td>\n",
       "    </tr>\n",
       "  </tbody>\n",
       "</table>\n",
       "</div>"
      ],
      "text/plain": [
       "   Unnamed: 0                                          msno  \\\n",
       "0           0  ++5wYjoMgQHoRuD3GbbvmphZbBBwymzv5Q4l8sywtuU=   \n",
       "1           1  ++AH7m/EQ4iKe6wSlfO/xXAJx50p+fCeTyF90GoE9Pg=   \n",
       "2           2  ++e+jsxuQ8UEnmW40od9Rq3rW7+wAum4wooXyZTKJpk=   \n",
       "3           3  ++xWL5Pbi2CpG4uUugigQahauM0J/sBIRloTNPBybIU=   \n",
       "4           4  +/SKX44s4ryWQzYzuV7ZKMXqIKQMN1cPz3M8CJ8CFKU=   \n",
       "\n",
       "                    recom_artist1 recom_artist2      recom_artist3  \n",
       "0               韋禮安 (William Wei)           李榮浩  楊丞琳 (Rainie Yang)  \n",
       "1  兄弟本色G.U.T.S. (姚中仁、張震嶽、頑童MJ116)         A-Lin      謝和弦 (R-chord)  \n",
       "2               韋禮安 (William Wei)         A-Lin                李榮浩  \n",
       "3                      丁噹 (Della)    aMEI (張惠妹)    郭靜 (Claire Kuo)  \n",
       "4                             李榮浩    aMEI (張惠妹)     林宥嘉 (Yoga Lin)  "
      ]
     },
     "execution_count": 14,
     "metadata": {},
     "output_type": "execute_result"
    }
   ],
   "source": [
    "recommend_artist.head()"
   ]
  },
  {
   "cell_type": "code",
   "execution_count": 15,
   "metadata": {},
   "outputs": [],
   "source": [
    "train=train.merge(recommend_artist[['msno','recom_artist1','recom_artist2','recom_artist3']], on='msno', how='left')\n",
    "test=test.merge(recommend_artist[['msno','recom_artist1','recom_artist2','recom_artist3']], on='msno', how='left')"
   ]
  },
  {
   "cell_type": "markdown",
   "metadata": {},
   "source": [
    "## Check null value in train"
   ]
  },
  {
   "cell_type": "code",
   "execution_count": 106,
   "metadata": {},
   "outputs": [
    {
     "data": {
      "text/plain": [
       "msno                         0\n",
       "song_id                      0\n",
       "source_system_tab        18371\n",
       "source_screen_name      414804\n",
       "source_type              21539\n",
       "target                       0\n",
       "song_year               577858\n",
       "city                         0\n",
       "bd                           0\n",
       "gender                 2961479\n",
       "registered_via               0\n",
       "membership_duration          0\n",
       "regis_year                   0\n",
       "regis_month                  0\n",
       "regis_day                    0\n",
       "expir_year                   0\n",
       "expir_month                  0\n",
       "expir_day                    0\n",
       "song_length                114\n",
       "genre_ids               118455\n",
       "artist_name                114\n",
       "composer               1675706\n",
       "lyricist               3178797\n",
       "language                   150\n",
       "dtype: int64"
      ]
     },
     "execution_count": 106,
     "metadata": {},
     "output_type": "execute_result"
    }
   ],
   "source": [
    "train.isnull().sum(axis=0)"
   ]
  },
  {
   "cell_type": "code",
   "execution_count": 12,
   "metadata": {
    "collapsed": true
   },
   "outputs": [],
   "source": [
    "#the list of columns contain missing value\n",
    "columns = train.isnull().sum(axis=0)"
   ]
  },
  {
   "cell_type": "code",
   "execution_count": 13,
   "metadata": {},
   "outputs": [
    {
     "name": "stdout",
     "output_type": "stream",
     "text": [
      "['source_system_tab', 'source_screen_name', 'source_type', 'song_year', 'gender', 'song_length', 'genre_ids', 'artist_name', 'composer', 'lyricist', 'language']\n"
     ]
    }
   ],
   "source": [
    "columns_null = columns.loc[columns >0].index.tolist()\n",
    "print (columns_null)"
   ]
  },
  {
   "cell_type": "code",
   "execution_count": 24,
   "metadata": {},
   "outputs": [
    {
     "data": {
      "text/plain": [
       "source_system_tab     category\n",
       "source_screen_name    category\n",
       "source_type           category\n",
       "song_year             category\n",
       "gender                category\n",
       "genre_ids             category\n",
       "artist_name           category\n",
       "composer              category\n",
       "lyricist              category\n",
       "language              category\n",
       "dtype: object"
      ]
     },
     "execution_count": 24,
     "metadata": {},
     "output_type": "execute_result"
    }
   ],
   "source": [
    "## get column data type\n",
    "train[columns_null].dtypes"
   ]
  },
  {
   "cell_type": "code",
   "execution_count": 15,
   "metadata": {
    "collapsed": true
   },
   "outputs": [],
   "source": [
    "# fill missing song length with median\n",
    "train.song_length.fillna(value=train['song_length'].median(), inplace=True)\n",
    "columns_null.remove('song_length')"
   ]
  },
  {
   "cell_type": "code",
   "execution_count": 114,
   "metadata": {},
   "outputs": [
    {
     "data": {
      "text/plain": [
       "['source_system_tab',\n",
       " 'source_screen_name',\n",
       " 'source_type',\n",
       " 'song_year',\n",
       " 'gender',\n",
       " 'genre_ids',\n",
       " 'artist_name',\n",
       " 'composer',\n",
       " 'lyricist',\n",
       " 'language']"
      ]
     },
     "execution_count": 114,
     "metadata": {},
     "output_type": "execute_result"
    }
   ],
   "source": [
    "columns_null"
   ]
  },
  {
   "cell_type": "code",
   "execution_count": 17,
   "metadata": {
    "collapsed": true
   },
   "outputs": [],
   "source": [
    "# fill missing category with unknown .cat.add_categories(['unknown'])\n",
    "for col in columns_null:\n",
    "    train[col] = train[col].astype('object')\n",
    "    train[col].fillna(value='unknown', inplace=True)\n",
    "    train[col] = train[col].astype('category')\n"
   ]
  },
  {
   "cell_type": "code",
   "execution_count": 18,
   "metadata": {},
   "outputs": [
    {
     "data": {
      "text/plain": [
       "msno                   False\n",
       "song_id                False\n",
       "source_system_tab      False\n",
       "source_screen_name     False\n",
       "source_type            False\n",
       "target                 False\n",
       "song_year              False\n",
       "city                   False\n",
       "bd                     False\n",
       "gender                 False\n",
       "registered_via         False\n",
       "membership_duration    False\n",
       "regis_year             False\n",
       "regis_month            False\n",
       "regis_day              False\n",
       "expir_year             False\n",
       "expir_month            False\n",
       "expir_day              False\n",
       "song_length            False\n",
       "genre_ids              False\n",
       "artist_name            False\n",
       "composer               False\n",
       "lyricist               False\n",
       "language               False\n",
       "dtype: bool"
      ]
     },
     "execution_count": 18,
     "metadata": {},
     "output_type": "execute_result"
    }
   ],
   "source": [
    "train.isnull().any()"
   ]
  },
  {
   "cell_type": "code",
   "execution_count": 11,
   "metadata": {},
   "outputs": [
    {
     "data": {
      "text/plain": [
       "(7377418, 24)"
      ]
     },
     "execution_count": 11,
     "metadata": {},
     "output_type": "execute_result"
    }
   ],
   "source": [
    "train.shape"
   ]
  },
  {
   "cell_type": "code",
   "execution_count": 14,
   "metadata": {},
   "outputs": [
    {
     "data": {
      "text/plain": [
       "Index(['msno', 'song_id', 'source_system_tab', 'source_screen_name',\n",
       "       'source_type', 'target', 'song_year', 'city', 'bd', 'gender',\n",
       "       'registered_via', 'membership_duration', 'regis_year', 'regis_month',\n",
       "       'regis_day', 'expir_year', 'expir_month', 'expir_day', 'song_length',\n",
       "       'genre_ids', 'artist_name', 'composer', 'lyricist', 'language'],\n",
       "      dtype='object')"
      ]
     },
     "execution_count": 14,
     "metadata": {},
     "output_type": "execute_result"
    }
   ],
   "source": [
    "train.columns"
   ]
  },
  {
   "cell_type": "markdown",
   "metadata": {},
   "source": [
    "## Check null value in train"
   ]
  },
  {
   "cell_type": "code",
   "execution_count": 130,
   "metadata": {},
   "outputs": [
    {
     "data": {
      "text/plain": [
       "id                           0\n",
       "msno                         0\n",
       "song_id                      0\n",
       "source_system_tab         5096\n",
       "source_screen_name      162883\n",
       "source_type               7297\n",
       "song_year               196643\n",
       "city                         0\n",
       "bd                           0\n",
       "gender                 1052224\n",
       "registered_via               0\n",
       "membership_duration          0\n",
       "regis_year                   0\n",
       "regis_month                  0\n",
       "regis_day                    0\n",
       "expir_year                   0\n",
       "expir_month                  0\n",
       "expir_day                    0\n",
       "song_length                 25\n",
       "genre_ids                42110\n",
       "artist_name                 25\n",
       "composer                619304\n",
       "lyricist               1224744\n",
       "language                    42\n",
       "genre_ids_count              0\n",
       "lyricists_count              0\n",
       "composer_count               0\n",
       "dtype: int64"
      ]
     },
     "execution_count": 130,
     "metadata": {},
     "output_type": "execute_result"
    }
   ],
   "source": [
    "test.isnull().sum(axis=0)"
   ]
  },
  {
   "cell_type": "code",
   "execution_count": 19,
   "metadata": {
    "collapsed": true
   },
   "outputs": [],
   "source": [
    "#the list of columns contain missing value\n",
    "columns = test.isnull().sum(axis=0)"
   ]
  },
  {
   "cell_type": "code",
   "execution_count": 20,
   "metadata": {},
   "outputs": [
    {
     "name": "stdout",
     "output_type": "stream",
     "text": [
      "['source_system_tab', 'source_screen_name', 'source_type', 'song_year', 'gender', 'song_length', 'genre_ids', 'artist_name', 'composer', 'lyricist', 'language']\n"
     ]
    }
   ],
   "source": [
    "columns_null = columns.loc[columns >0].index.tolist()\n",
    "print (columns_null)"
   ]
  },
  {
   "cell_type": "code",
   "execution_count": 21,
   "metadata": {},
   "outputs": [
    {
     "data": {
      "text/plain": [
       "source_system_tab     category\n",
       "source_screen_name    category\n",
       "source_type           category\n",
       "song_year             category\n",
       "gender                category\n",
       "song_length            float64\n",
       "genre_ids             category\n",
       "artist_name           category\n",
       "composer              category\n",
       "lyricist              category\n",
       "language              category\n",
       "dtype: object"
      ]
     },
     "execution_count": 21,
     "metadata": {},
     "output_type": "execute_result"
    }
   ],
   "source": [
    "## get column data type\n",
    "test[columns_null].dtypes"
   ]
  },
  {
   "cell_type": "code",
   "execution_count": 22,
   "metadata": {
    "collapsed": true
   },
   "outputs": [],
   "source": [
    "# fill missing song length with median\n",
    "test.song_length.fillna(value=test['song_length'].median(), inplace=True)\n",
    "columns_null.remove('song_length')"
   ]
  },
  {
   "cell_type": "code",
   "execution_count": 23,
   "metadata": {
    "collapsed": true
   },
   "outputs": [],
   "source": [
    "# fill missing category with unknown \n",
    "for col in columns_null:\n",
    "    test[col] = test[col].astype('object')\n",
    "    test[col].fillna(value='unknown', inplace=True)\n",
    "    test[col] = test[col].astype('category')\n"
   ]
  },
  {
   "cell_type": "code",
   "execution_count": 140,
   "metadata": {},
   "outputs": [
    {
     "data": {
      "text/plain": [
       "id                     False\n",
       "msno                   False\n",
       "song_id                False\n",
       "source_system_tab      False\n",
       "source_screen_name     False\n",
       "source_type            False\n",
       "song_year              False\n",
       "city                   False\n",
       "bd                     False\n",
       "gender                 False\n",
       "registered_via         False\n",
       "membership_duration    False\n",
       "regis_year             False\n",
       "regis_month            False\n",
       "regis_day              False\n",
       "expir_year             False\n",
       "expir_month            False\n",
       "expir_day              False\n",
       "song_length            False\n",
       "genre_ids              False\n",
       "artist_name            False\n",
       "composer               False\n",
       "lyricist               False\n",
       "language               False\n",
       "genre_ids_count        False\n",
       "lyricists_count        False\n",
       "composer_count         False\n",
       "dtype: bool"
      ]
     },
     "execution_count": 140,
     "metadata": {},
     "output_type": "execute_result"
    }
   ],
   "source": [
    "test.isnull().any()"
   ]
  },
  {
   "cell_type": "markdown",
   "metadata": {},
   "source": [
    "## additional variables "
   ]
  },
  {
   "cell_type": "markdown",
   "metadata": {},
   "source": [
    "## songs, genre, artist and language popularity"
   ]
  },
  {
   "cell_type": "code",
   "execution_count": 17,
   "metadata": {},
   "outputs": [
    {
     "data": {
      "text/plain": [
       "0     359\n",
       "1    1259\n",
       "2    1259\n",
       "3    1019\n",
       "4    1011\n",
       "Name: genre_ids, dtype: category\n",
       "Categories (1045, object): [1007, 1011, 1011|2189|367, 1011|691, ..., 1609|437, 1969|940|2100, 786|958|2022, 873|1609]"
      ]
     },
     "execution_count": 17,
     "metadata": {},
     "output_type": "execute_result"
    }
   ],
   "source": [
    "train['genre_ids'].head()"
   ]
  },
  {
   "cell_type": "code",
   "execution_count": 16,
   "metadata": {},
   "outputs": [],
   "source": [
    "popularity_features =['song_id','genre_ids','artist_name','composer']\n",
    "for feat in popularity_features:\n",
    "    train['popularity_'+feat]= train[feat].map(Counter(train[feat])).astype(np.int64)\n",
    "    test['popularity_'+feat] = test[feat].map(Counter(test[feat])).astype(np.int64)\n",
    "    "
   ]
  },
  {
   "cell_type": "markdown",
   "metadata": {},
   "source": [
    "### person-artist, lyricist, genre, composer "
   ]
  },
  {
   "cell_type": "code",
   "execution_count": 16,
   "metadata": {},
   "outputs": [],
   "source": [
    "person_liked=['artist_name','genre_ids','composer','lyricist']\n",
    "for i in person_liked:\n",
    "    agg=pd.DataFrame(train.groupby(['msno',i])['target'].sum()).reset_index(level=['msno',i])\n",
    "    agg.rename(columns={'target':'person_'+i},inplace=True)\n",
    "    train = train.merge(agg, on=['msno',i], how= 'left')\n",
    "    test = test.merge(agg, on=['msno',i], how= 'left')\n"
   ]
  },
  {
   "cell_type": "code",
   "execution_count": 17,
   "metadata": {},
   "outputs": [
    {
     "data": {
      "text/plain": [
       "(2556790, 39)"
      ]
     },
     "execution_count": 17,
     "metadata": {},
     "output_type": "execute_result"
    }
   ],
   "source": [
    "\n",
    "test.shape"
   ]
  },
  {
   "cell_type": "code",
   "execution_count": 18,
   "metadata": {},
   "outputs": [
    {
     "data": {
      "text/plain": [
       "(7377418, 39)"
      ]
     },
     "execution_count": 18,
     "metadata": {},
     "output_type": "execute_result"
    }
   ],
   "source": [
    "train.shape"
   ]
  },
  {
   "cell_type": "markdown",
   "metadata": {},
   "source": [
    "### experient on variables"
   ]
  },
  {
   "cell_type": "code",
   "execution_count": 32,
   "metadata": {
    "collapsed": true
   },
   "outputs": [],
   "source": [
    "droplist=['popularity_language']\n",
    "train= train.drop(droplist,axis=1)\n",
    "test = test.drop(droplist, axis=1)"
   ]
  },
  {
   "cell_type": "code",
   "execution_count": 17,
   "metadata": {},
   "outputs": [
    {
     "data": {
      "text/html": [
       "<div>\n",
       "<style scoped>\n",
       "    .dataframe tbody tr th:only-of-type {\n",
       "        vertical-align: middle;\n",
       "    }\n",
       "\n",
       "    .dataframe tbody tr th {\n",
       "        vertical-align: top;\n",
       "    }\n",
       "\n",
       "    .dataframe thead th {\n",
       "        text-align: right;\n",
       "    }\n",
       "</style>\n",
       "<table border=\"1\" class=\"dataframe\">\n",
       "  <thead>\n",
       "    <tr style=\"text-align: right;\">\n",
       "      <th></th>\n",
       "      <th>0</th>\n",
       "      <th>1</th>\n",
       "      <th>2</th>\n",
       "      <th>3</th>\n",
       "      <th>4</th>\n",
       "    </tr>\n",
       "  </thead>\n",
       "  <tbody>\n",
       "    <tr>\n",
       "      <th>msno</th>\n",
       "      <td>FGtllVqz18RPiwJj/edr2gV78zirAiY/9SmYvia+kCg=</td>\n",
       "      <td>Xumu+NIjS6QYVxDS4/t3SawvJ7viT9hPKXmf0RtLNx8=</td>\n",
       "      <td>Xumu+NIjS6QYVxDS4/t3SawvJ7viT9hPKXmf0RtLNx8=</td>\n",
       "      <td>Xumu+NIjS6QYVxDS4/t3SawvJ7viT9hPKXmf0RtLNx8=</td>\n",
       "      <td>FGtllVqz18RPiwJj/edr2gV78zirAiY/9SmYvia+kCg=</td>\n",
       "    </tr>\n",
       "    <tr>\n",
       "      <th>song_id</th>\n",
       "      <td>BBzumQNXUHKdEBOB7mAJuzok+IJA1c2Ryg/yzTF6tik=</td>\n",
       "      <td>bhp/MpSNoqoxOIB+/l8WPqu6jldth4DIpCm3ayXnJqM=</td>\n",
       "      <td>JNWfrrC7zNN7BdMpsISKa4Mw+xVJYNnxXh3/Epw7QgY=</td>\n",
       "      <td>2A87tzfnJTSWqD7gIZHisolhe4DMdzkbd6LzO1KHjNs=</td>\n",
       "      <td>3qm6XTZ6MOCU11x8FIVbAGH5l5uMkT3/ZalWG1oo2Gc=</td>\n",
       "    </tr>\n",
       "    <tr>\n",
       "      <th>source_system_tab</th>\n",
       "      <td>explore</td>\n",
       "      <td>my library</td>\n",
       "      <td>my library</td>\n",
       "      <td>my library</td>\n",
       "      <td>explore</td>\n",
       "    </tr>\n",
       "    <tr>\n",
       "      <th>source_screen_name</th>\n",
       "      <td>Explore</td>\n",
       "      <td>Local playlist more</td>\n",
       "      <td>Local playlist more</td>\n",
       "      <td>Local playlist more</td>\n",
       "      <td>Explore</td>\n",
       "    </tr>\n",
       "    <tr>\n",
       "      <th>source_type</th>\n",
       "      <td>online-playlist</td>\n",
       "      <td>local-playlist</td>\n",
       "      <td>local-playlist</td>\n",
       "      <td>local-playlist</td>\n",
       "      <td>online-playlist</td>\n",
       "    </tr>\n",
       "    <tr>\n",
       "      <th>target</th>\n",
       "      <td>1</td>\n",
       "      <td>1</td>\n",
       "      <td>1</td>\n",
       "      <td>1</td>\n",
       "      <td>1</td>\n",
       "    </tr>\n",
       "    <tr>\n",
       "      <th>song_year</th>\n",
       "      <td>2016</td>\n",
       "      <td>1999</td>\n",
       "      <td>2006</td>\n",
       "      <td>2010</td>\n",
       "      <td>2016</td>\n",
       "    </tr>\n",
       "    <tr>\n",
       "      <th>city</th>\n",
       "      <td>1</td>\n",
       "      <td>13</td>\n",
       "      <td>13</td>\n",
       "      <td>13</td>\n",
       "      <td>1</td>\n",
       "    </tr>\n",
       "    <tr>\n",
       "      <th>bd</th>\n",
       "      <td>0</td>\n",
       "      <td>24</td>\n",
       "      <td>24</td>\n",
       "      <td>24</td>\n",
       "      <td>0</td>\n",
       "    </tr>\n",
       "    <tr>\n",
       "      <th>gender</th>\n",
       "      <td>NaN</td>\n",
       "      <td>female</td>\n",
       "      <td>female</td>\n",
       "      <td>female</td>\n",
       "      <td>NaN</td>\n",
       "    </tr>\n",
       "    <tr>\n",
       "      <th>registered_via</th>\n",
       "      <td>7</td>\n",
       "      <td>9</td>\n",
       "      <td>9</td>\n",
       "      <td>9</td>\n",
       "      <td>7</td>\n",
       "    </tr>\n",
       "    <tr>\n",
       "      <th>membership_duration</th>\n",
       "      <td>2103</td>\n",
       "      <td>2301</td>\n",
       "      <td>2301</td>\n",
       "      <td>2301</td>\n",
       "      <td>2103</td>\n",
       "    </tr>\n",
       "    <tr>\n",
       "      <th>regis_year</th>\n",
       "      <td>2012</td>\n",
       "      <td>2011</td>\n",
       "      <td>2011</td>\n",
       "      <td>2011</td>\n",
       "      <td>2012</td>\n",
       "    </tr>\n",
       "    <tr>\n",
       "      <th>regis_month</th>\n",
       "      <td>1</td>\n",
       "      <td>5</td>\n",
       "      <td>5</td>\n",
       "      <td>5</td>\n",
       "      <td>1</td>\n",
       "    </tr>\n",
       "    <tr>\n",
       "      <th>regis_day</th>\n",
       "      <td>2</td>\n",
       "      <td>25</td>\n",
       "      <td>25</td>\n",
       "      <td>25</td>\n",
       "      <td>2</td>\n",
       "    </tr>\n",
       "    <tr>\n",
       "      <th>expir_year</th>\n",
       "      <td>2017</td>\n",
       "      <td>2017</td>\n",
       "      <td>2017</td>\n",
       "      <td>2017</td>\n",
       "      <td>2017</td>\n",
       "    </tr>\n",
       "    <tr>\n",
       "      <th>expir_month</th>\n",
       "      <td>10</td>\n",
       "      <td>9</td>\n",
       "      <td>9</td>\n",
       "      <td>9</td>\n",
       "      <td>10</td>\n",
       "    </tr>\n",
       "    <tr>\n",
       "      <th>expir_day</th>\n",
       "      <td>5</td>\n",
       "      <td>11</td>\n",
       "      <td>11</td>\n",
       "      <td>11</td>\n",
       "      <td>5</td>\n",
       "    </tr>\n",
       "    <tr>\n",
       "      <th>song_length</th>\n",
       "      <td>206471</td>\n",
       "      <td>284584</td>\n",
       "      <td>225396</td>\n",
       "      <td>255512</td>\n",
       "      <td>187802</td>\n",
       "    </tr>\n",
       "    <tr>\n",
       "      <th>genre_ids</th>\n",
       "      <td>359</td>\n",
       "      <td>1259</td>\n",
       "      <td>1259</td>\n",
       "      <td>1019</td>\n",
       "      <td>1011</td>\n",
       "    </tr>\n",
       "    <tr>\n",
       "      <th>artist_name</th>\n",
       "      <td>Bastille</td>\n",
       "      <td>Various Artists</td>\n",
       "      <td>Nas</td>\n",
       "      <td>Soundway</td>\n",
       "      <td>Brett Young</td>\n",
       "    </tr>\n",
       "    <tr>\n",
       "      <th>composer</th>\n",
       "      <td>Dan Smith| Mark Crew</td>\n",
       "      <td>NaN</td>\n",
       "      <td>N. Jones、W. Adams、J. Lordan、D. Ingle</td>\n",
       "      <td>Kwadwo Donkoh</td>\n",
       "      <td>Brett Young| Kelly Archer| Justin Ebach</td>\n",
       "    </tr>\n",
       "    <tr>\n",
       "      <th>lyricist</th>\n",
       "      <td>NaN</td>\n",
       "      <td>NaN</td>\n",
       "      <td>NaN</td>\n",
       "      <td>NaN</td>\n",
       "      <td>NaN</td>\n",
       "    </tr>\n",
       "    <tr>\n",
       "      <th>language</th>\n",
       "      <td>52.0</td>\n",
       "      <td>52.0</td>\n",
       "      <td>52.0</td>\n",
       "      <td>-1.0</td>\n",
       "      <td>52.0</td>\n",
       "    </tr>\n",
       "    <tr>\n",
       "      <th>genre_ids_count</th>\n",
       "      <td>1</td>\n",
       "      <td>1</td>\n",
       "      <td>1</td>\n",
       "      <td>1</td>\n",
       "      <td>1</td>\n",
       "    </tr>\n",
       "    <tr>\n",
       "      <th>artist_name_count</th>\n",
       "      <td>1</td>\n",
       "      <td>1</td>\n",
       "      <td>1</td>\n",
       "      <td>1</td>\n",
       "      <td>1</td>\n",
       "    </tr>\n",
       "    <tr>\n",
       "      <th>composer_count</th>\n",
       "      <td>2</td>\n",
       "      <td>1</td>\n",
       "      <td>4</td>\n",
       "      <td>1</td>\n",
       "      <td>3</td>\n",
       "    </tr>\n",
       "    <tr>\n",
       "      <th>lyricist_count</th>\n",
       "      <td>1</td>\n",
       "      <td>1</td>\n",
       "      <td>1</td>\n",
       "      <td>1</td>\n",
       "      <td>1</td>\n",
       "    </tr>\n",
       "    <tr>\n",
       "      <th>artist_composer</th>\n",
       "      <td>False</td>\n",
       "      <td>False</td>\n",
       "      <td>False</td>\n",
       "      <td>False</td>\n",
       "      <td>False</td>\n",
       "    </tr>\n",
       "    <tr>\n",
       "      <th>artist_lyricist</th>\n",
       "      <td>False</td>\n",
       "      <td>False</td>\n",
       "      <td>False</td>\n",
       "      <td>False</td>\n",
       "      <td>False</td>\n",
       "    </tr>\n",
       "    <tr>\n",
       "      <th>artist_composer_lyricist</th>\n",
       "      <td>False</td>\n",
       "      <td>False</td>\n",
       "      <td>False</td>\n",
       "      <td>False</td>\n",
       "      <td>False</td>\n",
       "    </tr>\n",
       "    <tr>\n",
       "      <th>recom_artist1</th>\n",
       "      <td>梁文音 (Rachel Liang)</td>\n",
       "      <td>范瑋琪 (Christine Fan)</td>\n",
       "      <td>范瑋琪 (Christine Fan)</td>\n",
       "      <td>范瑋琪 (Christine Fan)</td>\n",
       "      <td>梁文音 (Rachel Liang)</td>\n",
       "    </tr>\n",
       "    <tr>\n",
       "      <th>recom_artist2</th>\n",
       "      <td>劉若英 (Rene Liu)</td>\n",
       "      <td>孫盛希 (Shi Shi)</td>\n",
       "      <td>孫盛希 (Shi Shi)</td>\n",
       "      <td>孫盛希 (Shi Shi)</td>\n",
       "      <td>劉若英 (Rene Liu)</td>\n",
       "    </tr>\n",
       "    <tr>\n",
       "      <th>recom_artist3</th>\n",
       "      <td>潘瑋柏 (Will Pan)</td>\n",
       "      <td>徐佳瑩 (Lala Hsu)</td>\n",
       "      <td>徐佳瑩 (Lala Hsu)</td>\n",
       "      <td>徐佳瑩 (Lala Hsu)</td>\n",
       "      <td>潘瑋柏 (Will Pan)</td>\n",
       "    </tr>\n",
       "    <tr>\n",
       "      <th>popularity_song_id</th>\n",
       "      <td>215</td>\n",
       "      <td>1</td>\n",
       "      <td>4</td>\n",
       "      <td>1</td>\n",
       "      <td>412</td>\n",
       "    </tr>\n",
       "    <tr>\n",
       "      <th>popularity_genre_ids</th>\n",
       "      <td>109513</td>\n",
       "      <td>181713</td>\n",
       "      <td>181713</td>\n",
       "      <td>39</td>\n",
       "      <td>33496</td>\n",
       "    </tr>\n",
       "    <tr>\n",
       "      <th>popularity_artist_name</th>\n",
       "      <td>1140</td>\n",
       "      <td>303616</td>\n",
       "      <td>289</td>\n",
       "      <td>1</td>\n",
       "      <td>427</td>\n",
       "    </tr>\n",
       "    <tr>\n",
       "      <th>popularity_composer</th>\n",
       "      <td>499</td>\n",
       "      <td>0</td>\n",
       "      <td>4</td>\n",
       "      <td>1</td>\n",
       "      <td>412</td>\n",
       "    </tr>\n",
       "  </tbody>\n",
       "</table>\n",
       "</div>"
      ],
      "text/plain": [
       "                                                                     0  \\\n",
       "msno                      FGtllVqz18RPiwJj/edr2gV78zirAiY/9SmYvia+kCg=   \n",
       "song_id                   BBzumQNXUHKdEBOB7mAJuzok+IJA1c2Ryg/yzTF6tik=   \n",
       "source_system_tab                                              explore   \n",
       "source_screen_name                                             Explore   \n",
       "source_type                                            online-playlist   \n",
       "target                                                               1   \n",
       "song_year                                                         2016   \n",
       "city                                                                 1   \n",
       "bd                                                                   0   \n",
       "gender                                                             NaN   \n",
       "registered_via                                                       7   \n",
       "membership_duration                                               2103   \n",
       "regis_year                                                        2012   \n",
       "regis_month                                                          1   \n",
       "regis_day                                                            2   \n",
       "expir_year                                                        2017   \n",
       "expir_month                                                         10   \n",
       "expir_day                                                            5   \n",
       "song_length                                                     206471   \n",
       "genre_ids                                                          359   \n",
       "artist_name                                                   Bastille   \n",
       "composer                                          Dan Smith| Mark Crew   \n",
       "lyricist                                                           NaN   \n",
       "language                                                          52.0   \n",
       "genre_ids_count                                                      1   \n",
       "artist_name_count                                                    1   \n",
       "composer_count                                                       2   \n",
       "lyricist_count                                                       1   \n",
       "artist_composer                                                  False   \n",
       "artist_lyricist                                                  False   \n",
       "artist_composer_lyricist                                         False   \n",
       "recom_artist1                                       梁文音 (Rachel Liang)   \n",
       "recom_artist2                                           劉若英 (Rene Liu)   \n",
       "recom_artist3                                           潘瑋柏 (Will Pan)   \n",
       "popularity_song_id                                                 215   \n",
       "popularity_genre_ids                                            109513   \n",
       "popularity_artist_name                                            1140   \n",
       "popularity_composer                                                499   \n",
       "\n",
       "                                                                     1  \\\n",
       "msno                      Xumu+NIjS6QYVxDS4/t3SawvJ7viT9hPKXmf0RtLNx8=   \n",
       "song_id                   bhp/MpSNoqoxOIB+/l8WPqu6jldth4DIpCm3ayXnJqM=   \n",
       "source_system_tab                                           my library   \n",
       "source_screen_name                                 Local playlist more   \n",
       "source_type                                             local-playlist   \n",
       "target                                                               1   \n",
       "song_year                                                         1999   \n",
       "city                                                                13   \n",
       "bd                                                                  24   \n",
       "gender                                                          female   \n",
       "registered_via                                                       9   \n",
       "membership_duration                                               2301   \n",
       "regis_year                                                        2011   \n",
       "regis_month                                                          5   \n",
       "regis_day                                                           25   \n",
       "expir_year                                                        2017   \n",
       "expir_month                                                          9   \n",
       "expir_day                                                           11   \n",
       "song_length                                                     284584   \n",
       "genre_ids                                                         1259   \n",
       "artist_name                                            Various Artists   \n",
       "composer                                                           NaN   \n",
       "lyricist                                                           NaN   \n",
       "language                                                          52.0   \n",
       "genre_ids_count                                                      1   \n",
       "artist_name_count                                                    1   \n",
       "composer_count                                                       1   \n",
       "lyricist_count                                                       1   \n",
       "artist_composer                                                  False   \n",
       "artist_lyricist                                                  False   \n",
       "artist_composer_lyricist                                         False   \n",
       "recom_artist1                                      范瑋琪 (Christine Fan)   \n",
       "recom_artist2                                            孫盛希 (Shi Shi)   \n",
       "recom_artist3                                           徐佳瑩 (Lala Hsu)   \n",
       "popularity_song_id                                                   1   \n",
       "popularity_genre_ids                                            181713   \n",
       "popularity_artist_name                                          303616   \n",
       "popularity_composer                                                  0   \n",
       "\n",
       "                                                                     2  \\\n",
       "msno                      Xumu+NIjS6QYVxDS4/t3SawvJ7viT9hPKXmf0RtLNx8=   \n",
       "song_id                   JNWfrrC7zNN7BdMpsISKa4Mw+xVJYNnxXh3/Epw7QgY=   \n",
       "source_system_tab                                           my library   \n",
       "source_screen_name                                 Local playlist more   \n",
       "source_type                                             local-playlist   \n",
       "target                                                               1   \n",
       "song_year                                                         2006   \n",
       "city                                                                13   \n",
       "bd                                                                  24   \n",
       "gender                                                          female   \n",
       "registered_via                                                       9   \n",
       "membership_duration                                               2301   \n",
       "regis_year                                                        2011   \n",
       "regis_month                                                          5   \n",
       "regis_day                                                           25   \n",
       "expir_year                                                        2017   \n",
       "expir_month                                                          9   \n",
       "expir_day                                                           11   \n",
       "song_length                                                     225396   \n",
       "genre_ids                                                         1259   \n",
       "artist_name                                                        Nas   \n",
       "composer                          N. Jones、W. Adams、J. Lordan、D. Ingle   \n",
       "lyricist                                                           NaN   \n",
       "language                                                          52.0   \n",
       "genre_ids_count                                                      1   \n",
       "artist_name_count                                                    1   \n",
       "composer_count                                                       4   \n",
       "lyricist_count                                                       1   \n",
       "artist_composer                                                  False   \n",
       "artist_lyricist                                                  False   \n",
       "artist_composer_lyricist                                         False   \n",
       "recom_artist1                                      范瑋琪 (Christine Fan)   \n",
       "recom_artist2                                            孫盛希 (Shi Shi)   \n",
       "recom_artist3                                           徐佳瑩 (Lala Hsu)   \n",
       "popularity_song_id                                                   4   \n",
       "popularity_genre_ids                                            181713   \n",
       "popularity_artist_name                                             289   \n",
       "popularity_composer                                                  4   \n",
       "\n",
       "                                                                     3  \\\n",
       "msno                      Xumu+NIjS6QYVxDS4/t3SawvJ7viT9hPKXmf0RtLNx8=   \n",
       "song_id                   2A87tzfnJTSWqD7gIZHisolhe4DMdzkbd6LzO1KHjNs=   \n",
       "source_system_tab                                           my library   \n",
       "source_screen_name                                 Local playlist more   \n",
       "source_type                                             local-playlist   \n",
       "target                                                               1   \n",
       "song_year                                                         2010   \n",
       "city                                                                13   \n",
       "bd                                                                  24   \n",
       "gender                                                          female   \n",
       "registered_via                                                       9   \n",
       "membership_duration                                               2301   \n",
       "regis_year                                                        2011   \n",
       "regis_month                                                          5   \n",
       "regis_day                                                           25   \n",
       "expir_year                                                        2017   \n",
       "expir_month                                                          9   \n",
       "expir_day                                                           11   \n",
       "song_length                                                     255512   \n",
       "genre_ids                                                         1019   \n",
       "artist_name                                                   Soundway   \n",
       "composer                                                 Kwadwo Donkoh   \n",
       "lyricist                                                           NaN   \n",
       "language                                                          -1.0   \n",
       "genre_ids_count                                                      1   \n",
       "artist_name_count                                                    1   \n",
       "composer_count                                                       1   \n",
       "lyricist_count                                                       1   \n",
       "artist_composer                                                  False   \n",
       "artist_lyricist                                                  False   \n",
       "artist_composer_lyricist                                         False   \n",
       "recom_artist1                                      范瑋琪 (Christine Fan)   \n",
       "recom_artist2                                            孫盛希 (Shi Shi)   \n",
       "recom_artist3                                           徐佳瑩 (Lala Hsu)   \n",
       "popularity_song_id                                                   1   \n",
       "popularity_genre_ids                                                39   \n",
       "popularity_artist_name                                               1   \n",
       "popularity_composer                                                  1   \n",
       "\n",
       "                                                                     4  \n",
       "msno                      FGtllVqz18RPiwJj/edr2gV78zirAiY/9SmYvia+kCg=  \n",
       "song_id                   3qm6XTZ6MOCU11x8FIVbAGH5l5uMkT3/ZalWG1oo2Gc=  \n",
       "source_system_tab                                              explore  \n",
       "source_screen_name                                             Explore  \n",
       "source_type                                            online-playlist  \n",
       "target                                                               1  \n",
       "song_year                                                         2016  \n",
       "city                                                                 1  \n",
       "bd                                                                   0  \n",
       "gender                                                             NaN  \n",
       "registered_via                                                       7  \n",
       "membership_duration                                               2103  \n",
       "regis_year                                                        2012  \n",
       "regis_month                                                          1  \n",
       "regis_day                                                            2  \n",
       "expir_year                                                        2017  \n",
       "expir_month                                                         10  \n",
       "expir_day                                                            5  \n",
       "song_length                                                     187802  \n",
       "genre_ids                                                         1011  \n",
       "artist_name                                                Brett Young  \n",
       "composer                       Brett Young| Kelly Archer| Justin Ebach  \n",
       "lyricist                                                           NaN  \n",
       "language                                                          52.0  \n",
       "genre_ids_count                                                      1  \n",
       "artist_name_count                                                    1  \n",
       "composer_count                                                       3  \n",
       "lyricist_count                                                       1  \n",
       "artist_composer                                                  False  \n",
       "artist_lyricist                                                  False  \n",
       "artist_composer_lyricist                                         False  \n",
       "recom_artist1                                       梁文音 (Rachel Liang)  \n",
       "recom_artist2                                           劉若英 (Rene Liu)  \n",
       "recom_artist3                                           潘瑋柏 (Will Pan)  \n",
       "popularity_song_id                                                 412  \n",
       "popularity_genre_ids                                             33496  \n",
       "popularity_artist_name                                             427  \n",
       "popularity_composer                                                412  "
      ]
     },
     "execution_count": 17,
     "metadata": {},
     "output_type": "execute_result"
    }
   ],
   "source": [
    "train.head().T"
   ]
  },
  {
   "cell_type": "code",
   "execution_count": 31,
   "metadata": {},
   "outputs": [],
   "source": [
    "train.drop(['person_genre_ids','person_composer','person_lyricist'],axis=1, inplace =True)\n",
    "test.drop(['person_genre_ids','person_composer','person_lyricist'],axis=1, inplace =True)"
   ]
  },
  {
   "cell_type": "markdown",
   "metadata": {},
   "source": [
    "## model development"
   ]
  },
  {
   "cell_type": "markdown",
   "metadata": {},
   "source": [
    "## split train/validation sets"
   ]
  },
  {
   "cell_type": "code",
   "execution_count": 18,
   "metadata": {},
   "outputs": [],
   "source": [
    "for col in train.columns:\n",
    "    if train[col].dtype == object:\n",
    "        train[col] = train[col].astype('category')\n",
    "        test[col] = test[col].astype('category')"
   ]
  },
  {
   "cell_type": "code",
   "execution_count": 19,
   "metadata": {},
   "outputs": [],
   "source": [
    "X= train.drop(['target'],axis=1)\n",
    "y = train.target"
   ]
  },
  {
   "cell_type": "code",
   "execution_count": 20,
   "metadata": {},
   "outputs": [],
   "source": [
    "## becuase train dataset is in chronologically ordered\n",
    "X_train = X.iloc[:X.shape[0]-2500000,:]\n",
    "X_val = X.iloc[X.shape[0]-2500000:X.shape[0]+1,:]"
   ]
  },
  {
   "cell_type": "code",
   "execution_count": 21,
   "metadata": {},
   "outputs": [],
   "source": [
    "y_train = y.iloc[:y.shape[0]-2500000,]\n",
    "y_val = y.iloc[y.shape[0]-2500000:y.shape[0]+1,]"
   ]
  },
  {
   "cell_type": "markdown",
   "metadata": {},
   "source": [
    "## lightGBM model"
   ]
  },
  {
   "cell_type": "code",
   "execution_count": 22,
   "metadata": {},
   "outputs": [],
   "source": [
    "lgb_train = lgb.Dataset(X_train, y_train)\n",
    "lgb_eval = lgb.Dataset(X_val, y_val)\n"
   ]
  },
  {
   "cell_type": "code",
   "execution_count": 23,
   "metadata": {},
   "outputs": [],
   "source": [
    "lgb_all = lgb.Dataset(X,y)\n"
   ]
  },
  {
   "cell_type": "code",
   "execution_count": 24,
   "metadata": {},
   "outputs": [],
   "source": [
    "params = {\n",
    "    'objective':'binary',\n",
    "    'boosting': 'dart',\n",
    "    'learning_rate':0.2, \n",
    "          'application':'binary', \n",
    "          'max_depth':30, \n",
    "          'num_leaves':108,\n",
    "          'verbosity':0,\n",
    "          'metric':'auc',\n",
    "         'bagging_fraction': 0.95,\n",
    "        'bagging_freq': 1,\n",
    "        'bagging_seed': 1,\n",
    "        'feature_fraction': 0.9,\n",
    "        'feature_fraction_seed': 1,\n",
    "        'max_bin': 256,\n",
    "        'max_depth': 10}"
   ]
  },
  {
   "cell_type": "code",
   "execution_count": 26,
   "metadata": {},
   "outputs": [
    {
     "name": "stdout",
     "output_type": "stream",
     "text": [
      "Training until validation scores don't improve for 5 rounds.\n",
      "[5]\tvalid_0's auc: 0.687445\n",
      "[10]\tvalid_0's auc: 0.697399\n",
      "[15]\tvalid_0's auc: 0.703872\n",
      "[20]\tvalid_0's auc: 0.710547\n",
      "[25]\tvalid_0's auc: 0.714834\n",
      "[30]\tvalid_0's auc: 0.71704\n",
      "[35]\tvalid_0's auc: 0.71873\n",
      "[40]\tvalid_0's auc: 0.722031\n",
      "[45]\tvalid_0's auc: 0.723712\n",
      "[50]\tvalid_0's auc: 0.725158\n",
      "[55]\tvalid_0's auc: 0.727033\n",
      "[60]\tvalid_0's auc: 0.728332\n",
      "[65]\tvalid_0's auc: 0.729827\n",
      "[70]\tvalid_0's auc: 0.73153\n",
      "[75]\tvalid_0's auc: 0.73265\n",
      "[80]\tvalid_0's auc: 0.733588\n",
      "[85]\tvalid_0's auc: 0.733609\n",
      "[90]\tvalid_0's auc: 0.734228\n",
      "[95]\tvalid_0's auc: 0.735223\n",
      "[100]\tvalid_0's auc: 0.736728\n",
      "CPU times: user 30min 23s, sys: 1min 4s, total: 31min 28s\n",
      "Wall time: 4min 42s\n"
     ]
    }
   ],
   "source": [
    "%time model = lgb.train(params,train_set = lgb_all,num_boost_round=100, valid_sets=lgb_eval, early_stopping_rounds=5, verbose_eval=5)"
   ]
  },
  {
   "cell_type": "markdown",
   "metadata": {},
   "source": [
    "###### grid search lightGBM"
   ]
  },
  {
   "cell_type": "code",
   "execution_count": 115,
   "metadata": {
    "collapsed": true
   },
   "outputs": [],
   "source": [
    "gridParams ={'boosting': ['gbdt','dart'],\n",
    "            'learning_rate': [0.2,0.3,0.5]\n",
    "            }"
   ]
  },
  {
   "cell_type": "code",
   "execution_count": 117,
   "metadata": {},
   "outputs": [
    {
     "data": {
      "text/plain": [
       "dict_keys(['boosting_type', 'colsample_bytree', 'learning_rate', 'max_bin', 'max_depth', 'min_child_samples', 'min_child_weight', 'min_split_gain', 'n_estimators', 'n_jobs', 'num_leaves', 'objective', 'random_state', 'reg_alpha', 'reg_lambda', 'silent', 'subsample', 'subsample_for_bin', 'subsample_freq'])"
      ]
     },
     "execution_count": 117,
     "metadata": {},
     "output_type": "execute_result"
    }
   ],
   "source": [
    "mdl = lgb.LGBMClassifier('objective': 'binary',\n",
    "        'metric': 'binary_logloss',\n",
    "       \n",
    "        'verbose': 0,\n",
    "        'num_leaves': 108,\n",
    "        'bagging_fraction': 0.95,\n",
    "        'bagging_freq': 1,\n",
    "        'bagging_seed': 1,\n",
    "        'feature_fraction': 0.9,\n",
    "        'feature_fraction_seed': 1,\n",
    "        'max_bin': 256,\n",
    "        'max_depth': 10,\n",
    "        'num_rounds': 200)\n",
    "mdl.get_params().keys()"
   ]
  },
  {
   "cell_type": "code",
   "execution_count": null,
   "metadata": {
    "collapsed": true
   },
   "outputs": [],
   "source": []
  },
  {
   "cell_type": "markdown",
   "metadata": {},
   "source": [
    "## implement model on test dataset"
   ]
  },
  {
   "cell_type": "code",
   "execution_count": 27,
   "metadata": {},
   "outputs": [],
   "source": [
    "X_test = test.drop(['id'],axis=1)\n",
    "ids = test.id"
   ]
  },
  {
   "cell_type": "code",
   "execution_count": 28,
   "metadata": {},
   "outputs": [],
   "source": [
    "p_test = model.predict(X_test)"
   ]
  },
  {
   "cell_type": "code",
   "execution_count": 29,
   "metadata": {},
   "outputs": [],
   "source": [
    "submission = pd.DataFrame()\n",
    "submission['id']=ids\n",
    "submission['target'] = p_test"
   ]
  },
  {
   "cell_type": "code",
   "execution_count": 30,
   "metadata": {},
   "outputs": [],
   "source": [
    "submission.to_csv(data_path+'submission8.csv.gz',compression ='gzip',index=False, float_format ='%.5f')"
   ]
  },
  {
   "cell_type": "code",
   "execution_count": 104,
   "metadata": {},
   "outputs": [
    {
     "data": {
      "text/plain": [
       "Index(['source_system_tab', 'source_screen_name', 'source_type', 'song_year',\n",
       "       'city', 'bd', 'gender', 'registered_via', 'regis_year', 'regis_month',\n",
       "       'regis_day', 'expir_year', 'expir_month', 'expir_day', 'song_length',\n",
       "       'genre_ids', 'artist_name', 'composer', 'lyricist', 'language'],\n",
       "      dtype='object')"
      ]
     },
     "execution_count": 104,
     "metadata": {},
     "output_type": "execute_result"
    }
   ],
   "source": [
    "X.columns"
   ]
  },
  {
   "cell_type": "code",
   "execution_count": 47,
   "metadata": {},
   "outputs": [
    {
     "data": {
      "text/html": [
       "<div>\n",
       "<style>\n",
       "    .dataframe thead tr:only-child th {\n",
       "        text-align: right;\n",
       "    }\n",
       "\n",
       "    .dataframe thead th {\n",
       "        text-align: left;\n",
       "    }\n",
       "\n",
       "    .dataframe tbody tr th {\n",
       "        vertical-align: top;\n",
       "    }\n",
       "</style>\n",
       "<table border=\"1\" class=\"dataframe\">\n",
       "  <thead>\n",
       "    <tr style=\"text-align: right;\">\n",
       "      <th></th>\n",
       "      <th>id</th>\n",
       "      <th>target</th>\n",
       "    </tr>\n",
       "  </thead>\n",
       "  <tbody>\n",
       "    <tr>\n",
       "      <th>0</th>\n",
       "      <td>0</td>\n",
       "      <td>0.580721</td>\n",
       "    </tr>\n",
       "    <tr>\n",
       "      <th>1</th>\n",
       "      <td>1</td>\n",
       "      <td>0.669864</td>\n",
       "    </tr>\n",
       "    <tr>\n",
       "      <th>2</th>\n",
       "      <td>2</td>\n",
       "      <td>0.148302</td>\n",
       "    </tr>\n",
       "    <tr>\n",
       "      <th>3</th>\n",
       "      <td>3</td>\n",
       "      <td>0.106231</td>\n",
       "    </tr>\n",
       "    <tr>\n",
       "      <th>4</th>\n",
       "      <td>4</td>\n",
       "      <td>0.165245</td>\n",
       "    </tr>\n",
       "  </tbody>\n",
       "</table>\n",
       "</div>"
      ],
      "text/plain": [
       "   id    target\n",
       "0   0  0.580721\n",
       "1   1  0.669864\n",
       "2   2  0.148302\n",
       "3   3  0.106231\n",
       "4   4  0.165245"
      ]
     },
     "execution_count": 47,
     "metadata": {},
     "output_type": "execute_result"
    }
   ],
   "source": [
    "submission.head()"
   ]
  },
  {
   "cell_type": "code",
   "execution_count": null,
   "metadata": {
    "collapsed": true
   },
   "outputs": [],
   "source": []
  }
 ],
 "metadata": {
  "kernelspec": {
   "display_name": "Python 3",
   "language": "python",
   "name": "python3"
  },
  "language_info": {
   "codemirror_mode": {
    "name": "ipython",
    "version": 3
   },
   "file_extension": ".py",
   "mimetype": "text/x-python",
   "name": "python",
   "nbconvert_exporter": "python",
   "pygments_lexer": "ipython3",
   "version": "3.6.3"
  }
 },
 "nbformat": 4,
 "nbformat_minor": 2
}
