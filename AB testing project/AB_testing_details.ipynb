{
 "cells": [
  {
   "cell_type": "code",
   "execution_count": 1,
   "metadata": {},
   "outputs": [],
   "source": [
    "import pandas as pd\n",
    "import numpy as np"
   ]
  },
  {
   "cell_type": "markdown",
   "metadata": {},
   "source": [
    "## Measuring Variability"
   ]
  },
  {
   "cell_type": "code",
   "execution_count": 4,
   "metadata": {},
   "outputs": [
    {
     "name": "stdout",
     "output_type": "stream",
     "text": [
      "standard deviation of gross conversion is: 0.020230604137\n"
     ]
    }
   ],
   "source": [
    "# calculate sample standard deviation of gross conversion\n",
    "\n",
    "# number of cookies\n",
    "n=5000\n",
    "#Click-through-probability on \"Start free trial\":\n",
    "ctr = 0.08\n",
    "#probability of enrolling,given click\n",
    "p=0.20625\n",
    "\n",
    "#standard deviation of gross conversion\n",
    "std = np.sqrt(p*(1-p)/(n*ctr))\n",
    "\n",
    "print('standard deviation of gross conversion is: '+ str(std))"
   ]
  },
  {
   "cell_type": "code",
   "execution_count": 6,
   "metadata": {},
   "outputs": [
    {
     "name": "stdout",
     "output_type": "stream",
     "text": [
      "standard deviation of retention is: 0.0549490121785\n"
     ]
    }
   ],
   "source": [
    "# calculate sample standard deviation of retention\n",
    "\n",
    "# number of cookies\n",
    "n=5000\n",
    "\n",
    "#Click-through-probability on \"Start free trial\":\n",
    "ctr=0.08\n",
    "#Probability of enrolling, given click:\n",
    "p1=0.20625\n",
    "\n",
    "#Probability of payment, given enroll:\n",
    "p=0.53\n",
    "\n",
    "#standard deviation of retention\n",
    "std= np.sqrt(p*(1-p)/(n*ctr*p1))\n",
    "\n",
    "print('standard deviation of retention is: '+ str(std))"
   ]
  },
  {
   "cell_type": "code",
   "execution_count": 7,
   "metadata": {},
   "outputs": [
    {
     "name": "stdout",
     "output_type": "stream",
     "text": [
      "standard deviation of Net conversion is: 0.0156015445825\n"
     ]
    }
   ],
   "source": [
    "# calculate sample standard deviation of net conversion\n",
    "\n",
    "# number of cookies\n",
    "n=5000\n",
    "\n",
    "#Click-through-probability on \"Start free trial\":\n",
    "ctr=0.08\n",
    "\n",
    "\n",
    "#Probability of payment, given click\n",
    "p=0.1093125\n",
    "\n",
    "#standard deviation of retention\n",
    "std= np.sqrt(p*(1-p)/(n*ctr))\n",
    "\n",
    "print('standard deviation of Net conversion is: '+ str(std))"
   ]
  },
  {
   "cell_type": "markdown",
   "metadata": {},
   "source": [
    "## Sizing"
   ]
  },
  {
   "cell_type": "code",
   "execution_count": 2,
   "metadata": {},
   "outputs": [],
   "source": [
    "import pandas as pd\n",
    "control = pd.read_excel('data.xlsx',sheet_name='Control')\n",
    "experiment = pd.read_excel('data.xlsx',sheet_name='Experiment')"
   ]
  },
  {
   "cell_type": "markdown",
   "metadata": {},
   "source": [
    "### Sanity check "
   ]
  },
  {
   "cell_type": "code",
   "execution_count": 13,
   "metadata": {},
   "outputs": [],
   "source": [
    "def sanitycheck(column):\n",
    "    total = control[column].sum()+experiment[column].sum()\n",
    "    p=0.5\n",
    "    standarderror = np.sqrt(p*(1-p)/total)\n",
    "    marginerror = 1.96*standarderror\n",
    "    ci_low = p-marginerror\n",
    "    ci_upper= p+ marginerror\n",
    "    observed = control[column].sum()/total\n",
    "    if observed <= ci_upper and observed>=ci_low:\n",
    "        print('sanity check of '+ column +' passed')\n",
    "    else:\n",
    "        print('sanity check of '+ column +' failed')"
   ]
  },
  {
   "cell_type": "code",
   "execution_count": 17,
   "metadata": {},
   "outputs": [],
   "source": [
    "control = control.set_index('Date')"
   ]
  },
  {
   "cell_type": "code",
   "execution_count": 18,
   "metadata": {},
   "outputs": [
    {
     "name": "stdout",
     "output_type": "stream",
     "text": [
      "sanity check of Pageviews passed\n",
      "sanity check of Clicks passed\n",
      "sanity check of Enrollments failed\n",
      "sanity check of Payments passed\n"
     ]
    }
   ],
   "source": [
    "for col in control.columns:\n",
    "    sanitycheck(col)"
   ]
  },
  {
   "cell_type": "markdown",
   "metadata": {},
   "source": [
    "## Analyse the result"
   ]
  },
  {
   "cell_type": "code",
   "execution_count": 5,
   "metadata": {},
   "outputs": [],
   "source": [
    "# drop null records\n",
    "control = control[control['Enrollments'].notnull()]\n",
    "experiment = experiment[experiment['Enrollments'].notnull()]"
   ]
  },
  {
   "cell_type": "code",
   "execution_count": 25,
   "metadata": {},
   "outputs": [],
   "source": [
    "\n",
    "def CI(z_score, demoniator_exp, demoniator_cont, numeritor_exp, numeritor_cont):\n",
    "\n",
    "\n",
    "    #demoninator\n",
    "    D_ex = demoniator_exp.sum()\n",
    "    D_con = demoniator_cont.sum()\n",
    "\n",
    "    #numeritor\n",
    "    N_ex = numeritor_exp.sum()\n",
    "    N_con = numeritor_cont.sum()\n",
    "\n",
    "    P_pool = (N_ex+N_con)/(D_ex+D_con)\n",
    "    SE_pool = np.sqrt(P_pool*(1-P_pool)*(1/D_ex+1/D_con))\n",
    "    margin = z_score*SE_pool\n",
    "\n",
    "    mean = N_ex/D_ex - N_con/D_con\n",
    "    \n",
    "    upper = mean+margin\n",
    "    lower = mean-margin\n",
    "    \n",
    "    return upper,lower, mean\n",
    "\n"
   ]
  },
  {
   "cell_type": "code",
   "execution_count": 28,
   "metadata": {},
   "outputs": [
    {
     "name": "stdout",
     "output_type": "stream",
     "text": [
      "Confident Interval for Gross conversion is -0.0291233583354044 (lowerbound), -0.01198639082531873(upperbound)\n"
     ]
    }
   ],
   "source": [
    "# gross conversion\n",
    "upper, lower ,mean = CI(1.96,experiment['Clicks'],control['Clicks'], experiment['Enrollments'], control['Enrollments'])\n",
    "print('Confident Interval for Gross conversion is {} (lowerbound), {}(upperbound)'.format(lower,upper))"
   ]
  },
  {
   "cell_type": "code",
   "execution_count": 29,
   "metadata": {},
   "outputs": [
    {
     "name": "stdout",
     "output_type": "stream",
     "text": [
      "Confident Interval for Net conversion is -0.011604624359891718 (lowerbound), 0.001857179010803383(upperbound)\n"
     ]
    }
   ],
   "source": [
    "# Net conversion\n",
    "upper, lower ,mean = CI(1.96,experiment['Clicks'],control['Clicks'], experiment['Payments'], control['Payments'])\n",
    "print('Confident Interval for Net conversion is {} (lowerbound), {}(upperbound)'.format(lower,upper))"
   ]
  },
  {
   "cell_type": "code",
   "execution_count": null,
   "metadata": {},
   "outputs": [],
   "source": []
  }
 ],
 "metadata": {
  "kernelspec": {
   "display_name": "Python 3",
   "language": "python",
   "name": "python3"
  },
  "language_info": {
   "codemirror_mode": {
    "name": "ipython",
    "version": 3
   },
   "file_extension": ".py",
   "mimetype": "text/x-python",
   "name": "python",
   "nbconvert_exporter": "python",
   "pygments_lexer": "ipython3",
   "version": "3.6.3"
  }
 },
 "nbformat": 4,
 "nbformat_minor": 2
}
